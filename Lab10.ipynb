{
  "cells": [
    {
      "cell_type": "markdown",
      "metadata": {
        "id": "view-in-github",
        "colab_type": "text"
      },
      "source": [
        "<a href=\"https://colab.research.google.com/github/Ruthuja-Gaikwad/2203a52117/blob/main/Lab10.ipynb\" target=\"_parent\"><img src=\"https://colab.research.google.com/assets/colab-badge.svg\" alt=\"Open In Colab\"/></a>"
      ]
    },
    {
      "cell_type": "code",
      "execution_count": null,
      "metadata": {
        "id": "zkf2M2KiBjvP"
      },
      "outputs": [],
      "source": [
        "import numpy as np\n",
        "import pandas as pd\n",
        "data=pd.read_csv(\"/content/train-1.csv\")\n",
        "data.head()\n"
      ]
    },
    {
      "cell_type": "code",
      "execution_count": null,
      "metadata": {
        "id": "MbFJ5n8UE-x6"
      },
      "outputs": [],
      "source": [
        "data.shape"
      ]
    },
    {
      "cell_type": "code",
      "execution_count": null,
      "metadata": {
        "id": "mSCXpahiDOA3"
      },
      "outputs": [],
      "source": [
        "da=pd.read_csv(\"/content/test.csv\")\n",
        "da.head()"
      ]
    },
    {
      "cell_type": "code",
      "execution_count": null,
      "metadata": {
        "id": "YGmqB6xCEBzc"
      },
      "outputs": [],
      "source": [
        "da.shape"
      ]
    },
    {
      "cell_type": "code",
      "execution_count": null,
      "metadata": {
        "id": "jQHcfz-NNCTl"
      },
      "outputs": [],
      "source": [
        "df_cleaned = data.dropna()\n",
        "df_cleaned = df_cleaned.reset_index(drop=True)\n",
        "df_cleaned.to_csv('/content/train-1.csv', index=False)\n",
        "data.head()"
      ]
    },
    {
      "cell_type": "code",
      "execution_count": null,
      "metadata": {
        "id": "QA-4HDn2P47I"
      },
      "outputs": [],
      "source": [
        "import pandas as pd\n",
        "\n",
        "\n",
        "# Check for NaN values in all features\n",
        "nan_check = data.isna().any()\n",
        "\n",
        "# Remove rows with NaN values (if needed)\n",
        "data = data.dropna(axis=0)\n",
        "\n",
        "# Remove columns with NaN values (if needed)\n",
        "# data = data.dropna(axis=1)\n",
        "\n",
        "# Optionally, impute missing values in a specific column (e.g., 'column_name') with the mean\n",
        "# data['column_name'].fillna(data['column_name'].mean(), inplace=True)\n",
        "\n",
        "# Save the cleaned DataFrame to a new file (if needed)\n",
        "data.to_csv('cleaned_data.csv', index=False)\n"
      ]
    },
    {
      "cell_type": "code",
      "execution_count": null,
      "metadata": {
        "id": "TbslH1zuFFpA"
      },
      "outputs": [],
      "source": [
        "x = data.drop(columns=['ID','Crop_Damage'])\n",
        "y=data['Crop_Damage']\n",
        "u= da.drop(columns=['ID'])\n"
      ]
    },
    {
      "cell_type": "code",
      "execution_count": null,
      "metadata": {
        "id": "vjece3bvFpZU"
      },
      "outputs": [],
      "source": [
        "#minmax scaling\n",
        "from sklearn.preprocessing import MinMaxScaler\n",
        "scalar=MinMaxScaler()\n",
        "scalar.fit(x)\n",
        "x_scaled=scalar.transform(x)\n",
        "print(x_scaled)"
      ]
    },
    {
      "cell_type": "code",
      "source": [
        "from sklearn.kernel_approximation import Nystroem\n",
        "nystroem = Nystroem(kernel='rbf', random_state=42, n_components=1000)\n",
        "X_features = nystroem.fit_transform(x_scaled)"
      ],
      "metadata": {
        "id": "2nRgeiuDSkPF"
      },
      "execution_count": null,
      "outputs": []
    },
    {
      "cell_type": "code",
      "execution_count": null,
      "metadata": {
        "id": "Og6_6I8wHsY1"
      },
      "outputs": [],
      "source": [
        "from sklearn.model_selection import train_test_split\n",
        "x_train, x_test, y_train, y_test = train_test_split(x_scaled, y, test_size=0.2, random_state=20)\n"
      ]
    },
    {
      "cell_type": "code",
      "execution_count": null,
      "metadata": {
        "id": "Byt6JkBYQ8YE"
      },
      "outputs": [],
      "source": [
        "from sklearn.metrics import classification_report, confusion_matrix\n",
        "from sklearn.utils import resample\n",
        "\n",
        "# SVM\n",
        "svm_model = SVC()\n",
        "svm_model.fit(x_train, y_train)\n",
        "svm_predictions = svm_model.predict(x_test)\n",
        "svm_accuracy = accuracy_score(y_test, svm_predictions)\n",
        "\n",
        "# Print SVM Accuracy\n",
        "print(\"SVM Accuracy:\", svm_accuracy)\n",
        "\n",
        "# Print Classification Report\n",
        "svm_classification_report = classification_report(y_test, svm_predictions)\n",
        "print(\"SVM Classification Report:\\n\", svm_classification_report)\n",
        "\n",
        "# Print Confusion Matrix\n",
        "svm_confusion_matrix = confusion_matrix(y_test, svm_predictions)\n",
        "print(\"SVM Confusion Matrix:\\n\", svm_confusion_matrix)\n",
        "\n",
        "# Bootstrapping (Perform resampling)\n",
        "n_bootstrap_samples = 1000\n",
        "bootstrap_accuracies = []\n",
        "\n",
        "for _ in range(n_bootstrap_samples):\n",
        "    x_sample, y_sample = resample(x_scaled_train, y_train, replace=True, random_state=10)\n",
        "    svm_model.fit(x_sample, y_sample)\n",
        "    svm_sample_predictions = svm_model.predict(x_scaled_test)\n",
        "    accuracy = accuracy_score(y_test, svm_sample_predictions)\n",
        "    bootstrap_accuracies.append(accuracy)\n",
        "\n",
        "# Calculate the confidence interval for accuracy\n",
        "bootstrap_accuracies.sort()\n",
        "lower_percentile = 2.5\n",
        "upper_percentile = 97.5\n",
        "lower_bound = bootstrap_accuracies[int((lower_percentile / 100) * n_bootstrap_samples)]\n",
        "upper_bound = bootstrap_accuracies[int((upper_percentile / 100) * n_bootstrap_samples)]\n",
        "\n",
        "print(\"Bootstrap Accuracy (95% Confidence Interval):\", lower_bound, \"-\", upper_bound)"
      ]
    }
  ],
  "metadata": {
    "colab": {
      "provenance": [],
      "authorship_tag": "ABX9TyNpVd/KNYIscXdIf/lN0c2H",
      "include_colab_link": true
    },
    "kernelspec": {
      "display_name": "Python 3",
      "name": "python3"
    },
    "language_info": {
      "name": "python"
    }
  },
  "nbformat": 4,
  "nbformat_minor": 0
}